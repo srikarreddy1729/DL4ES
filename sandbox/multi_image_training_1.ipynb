{
  "nbformat": 4,
  "nbformat_minor": 0,
  "metadata": {
    "colab": {
      "provenance": [],
      "authorship_tag": "ABX9TyMx/g99eNXIiZPRpCO/Gf3q",
      "include_colab_link": true
    },
    "kernelspec": {
      "name": "python3",
      "display_name": "Python 3"
    },
    "language_info": {
      "name": "python"
    }
  },
  "cells": [
    {
      "cell_type": "markdown",
      "metadata": {
        "id": "view-in-github",
        "colab_type": "text"
      },
      "source": [
        "<a href=\"https://colab.research.google.com/github/srikarreddy1729/DL4ES/blob/main/sandbox/multi_image_training_1.ipynb\" target=\"_parent\"><img src=\"https://colab.research.google.com/assets/colab-badge.svg\" alt=\"Open In Colab\"/></a>"
      ]
    },
    {
      "cell_type": "markdown",
      "source": [
        "1. create functions to preprocess the input image:\n",
        "2. the function should have normalization, resize, creating patches\n",
        "3. all the images should be converted into lists of patches\n",
        "4. these lists are sampled and useful lists are created\n",
        "5. then combine all the sampled into to bigger list,\n",
        "4. then a numpy array\n"
      ],
      "metadata": {
        "id": "vHxXD3_YSbNy"
      }
    },
    {
      "cell_type": "code",
      "source": [
        "from google.colab import drive\n",
        "drive.mount(\"/content/gdrive\")"
      ],
      "metadata": {
        "colab": {
          "base_uri": "https://localhost:8080/"
        },
        "id": "WXSuS5jdYI_3",
        "outputId": "4e8ca1f5-37c8-4642-92f8-324214d115f8"
      },
      "execution_count": 1,
      "outputs": [
        {
          "output_type": "stream",
          "name": "stdout",
          "text": [
            "Mounted at /content/gdrive\n"
          ]
        }
      ]
    },
    {
      "cell_type": "code",
      "source": [
        "!pip install rasterio\n",
        "import numpy as np\n",
        "import rasterio\n",
        "import keras\n",
        "import tensorflow as tf"
      ],
      "metadata": {
        "colab": {
          "base_uri": "https://localhost:8080/"
        },
        "id": "Z-hCN74DTG3P",
        "outputId": "bb589cea-c004-4749-e47a-6ef00dbdb31a"
      },
      "execution_count": 2,
      "outputs": [
        {
          "output_type": "stream",
          "name": "stdout",
          "text": [
            "Collecting rasterio\n",
            "  Downloading rasterio-1.3.8-cp310-cp310-manylinux_2_17_x86_64.manylinux2014_x86_64.whl (21.3 MB)\n",
            "\u001b[2K     \u001b[90m━━━━━━━━━━━━━━━━━━━━━━━━━━━━━━━━━━━━━━━━\u001b[0m \u001b[32m21.3/21.3 MB\u001b[0m \u001b[31m56.7 MB/s\u001b[0m eta \u001b[36m0:00:00\u001b[0m\n",
            "\u001b[?25hCollecting affine (from rasterio)\n",
            "  Downloading affine-2.4.0-py3-none-any.whl (15 kB)\n",
            "Requirement already satisfied: attrs in /usr/local/lib/python3.10/dist-packages (from rasterio) (23.1.0)\n",
            "Requirement already satisfied: certifi in /usr/local/lib/python3.10/dist-packages (from rasterio) (2023.7.22)\n",
            "Requirement already satisfied: click>=4.0 in /usr/local/lib/python3.10/dist-packages (from rasterio) (8.1.7)\n",
            "Requirement already satisfied: cligj>=0.5 in /usr/local/lib/python3.10/dist-packages (from rasterio) (0.7.2)\n",
            "Requirement already satisfied: numpy>=1.18 in /usr/local/lib/python3.10/dist-packages (from rasterio) (1.23.5)\n",
            "Collecting snuggs>=1.4.1 (from rasterio)\n",
            "  Downloading snuggs-1.4.7-py3-none-any.whl (5.4 kB)\n",
            "Requirement already satisfied: click-plugins in /usr/local/lib/python3.10/dist-packages (from rasterio) (1.1.1)\n",
            "Requirement already satisfied: setuptools in /usr/local/lib/python3.10/dist-packages (from rasterio) (67.7.2)\n",
            "Requirement already satisfied: pyparsing>=2.1.6 in /usr/local/lib/python3.10/dist-packages (from snuggs>=1.4.1->rasterio) (3.1.1)\n",
            "Installing collected packages: snuggs, affine, rasterio\n",
            "Successfully installed affine-2.4.0 rasterio-1.3.8 snuggs-1.4.7\n"
          ]
        }
      ]
    },
    {
      "cell_type": "code",
      "source": [
        "import os, sys"
      ],
      "metadata": {
        "id": "kVZ3TPriLwmk"
      },
      "execution_count": 3,
      "outputs": []
    },
    {
      "cell_type": "code",
      "source": [
        "!pip install gdal\n"
      ],
      "metadata": {
        "colab": {
          "base_uri": "https://localhost:8080/"
        },
        "id": "TA0FaPJ9Lx1v",
        "outputId": "2676ceef-d370-46de-aaf5-5a4b61564cd6"
      },
      "execution_count": 4,
      "outputs": [
        {
          "output_type": "stream",
          "name": "stdout",
          "text": [
            "Requirement already satisfied: gdal in /usr/local/lib/python3.10/dist-packages (3.4.3)\n"
          ]
        }
      ]
    },
    {
      "cell_type": "code",
      "source": [
        "from osgeo import gdal, osr"
      ],
      "metadata": {
        "id": "Q7_afIoKL4RN"
      },
      "execution_count": 5,
      "outputs": []
    },
    {
      "cell_type": "code",
      "source": [
        "#INPUTS - geotif and geojason reference\n",
        "ps = 'area2_0530_2022_8bands.tif'\n",
        "roishape = \"area2_square.geojson\"\n",
        "\n",
        "rasterfile = gdal.Open(datapath + ps)\n",
        "print('\\nPerforming the clip operation...\\n')\n",
        "\n",
        "\n",
        "warp_options = gdal.WarpOptions(cutlineDSName = roipath + roishape, cropToCutline = True)\n",
        "rasterfile_new = ps.split('.tif')[0] + '_roi.tif'\n",
        "ds = gdal.Warp(datapath + rasterfile_new, datapath + ps,  options = warp_options)\n",
        "\n",
        "cols = ds.RasterXSize\n",
        "rows = ds.RasterYSize\n",
        "bands = ds.RasterCount\n",
        "projInfo = ds.GetProjection()\n",
        "spatialRef = osr.SpatialReference()\n",
        "spatialRef.ImportFromWkt(projInfo)\n",
        "spatialRefProj = spatialRef.ExportToProj4()\n",
        "ds = None\n",
        "\n",
        "print('\\nClipped raster input: ', rasterfile_new)\n",
        "print('Checking spatial reference info\\n')\n",
        "print (\"WKT format: \" + str(spatialRef))\n",
        "print (\"Proj4 format: \" + str(spatialRefProj))\n",
        "print (\"Number of columns: \" + str(cols))\n",
        "print (\"Number of rows: \" + str(rows))\n",
        "print (\"Number of bands: \" + str(bands))\n"
      ],
      "metadata": {
        "id": "OkyGPGXxL6k4"
      },
      "execution_count": null,
      "outputs": []
    },
    {
      "cell_type": "code",
      "source": [
        "from zmq import backend\n",
        "#preprocessing\n",
        "def preprocessing(filelocation):\n",
        "    # Load the GeoTIFF file\n",
        "    with rasterio.open(filelocation) as src:\n",
        "        # Read the TIFF data\n",
        "        tiff_data = src.read()\n",
        "        print(\"total number of nan in original\",np.count_nonzero(np.isnan(tiff_data)))\n",
        "\n",
        "        # Get the shape of the TIFF data\n",
        "        num_bands, height, width = tiff_data.shape\n",
        "\n",
        "        print(\"Original image dimensions:\", num_bands, height, width)\n",
        "        unique_elements, counts_elements = np.unique(tiff_data, return_counts=True)\n",
        "        print(unique_elements, counts_elements )\n",
        "        print(\"total unique\",len(counts_elements))\n",
        "\n",
        "        print(np.min(tiff_data), np.max(tiff_data))\n",
        "\n",
        "\n",
        "        normalized_image = np.zeros_like(tiff_data, dtype='float32')\n",
        "\n",
        "        for band, count in enumerate(range(tiff_data.shape[0])):\n",
        "            band_data = tiff_data[band, :, :]\n",
        "            band_min = np.min(band_data)\n",
        "            band_max = np.max(band_data)\n",
        "            print(\"band-\", count+1,\"maximum-\",band_max,\"minimum-\",band_min)\n",
        "            #print(band_data)\n",
        "            normalized_band = (band_data - band_min) / (band_max - band_min + 1e-10)\n",
        "            normalized_image[band, :, :] = normalized_band\n",
        "\n",
        "        # Calculate the new width and height that are multiples of the patch size\n",
        "        patch_size = 256  # Replace with your desired patch size\n",
        "        new_width = int(np.floor(width / patch_size)) * patch_size\n",
        "        new_height = int(np.floor(height / patch_size)) * patch_size\n",
        "\n",
        "        print(\"cropped dimensions:\", new_height, new_width)\n",
        "\n",
        "        input_image = np.moveaxis(normalized_image, 0, -1)\n",
        "\n",
        "        # Crop the input_image to the new dimensions\n",
        "        cropped_array = input_image[:new_height, :new_width, :]\n",
        "\n",
        "    print(\"total number of nan\",np.count_nonzero(np.isnan(cropped_array)))\n",
        "    print(\"Cropped array shape:\", cropped_array.shape)\n",
        "    print(np.min(cropped_array), np.max(cropped_array))\n",
        "\n",
        "    patches = []\n",
        "    for i in range(0, cropped_array.shape[0], patch_size):\n",
        "        for j in range(0, cropped_array.shape[1], patch_size):\n",
        "            patch = cropped_array[i:i+patch_size, j:j+patch_size]\n",
        "            patches.append(patch)\n",
        "    print(\"patches are created\")\n",
        "    return patches"
      ],
      "metadata": {
        "id": "prlfXjI2TOJ6"
      },
      "execution_count": 41,
      "outputs": []
    },
    {
      "cell_type": "code",
      "source": [
        "def sampling(training_images, mask_array):\n",
        "    useful_images = []\n",
        "    useful_masks = []\n",
        "    useless = 0\n",
        "    indexes = []\n",
        "    for img in range(len(training_images)):\n",
        "        img_name=training_images[img]\n",
        "        mask_name = mask_array[img]\n",
        "\n",
        "        val, counts = np.unique(mask_name, return_counts=True)\n",
        "\n",
        "        if (1 - (counts[0]/counts.sum())) > 0.05:\n",
        "          useful_images.append(img_name)\n",
        "          useful_masks.append(mask_name)\n",
        "          indexes.append(img)\n",
        "          print(\"I am useful\")\n",
        "\n",
        "        else:\n",
        "          #print(\"I am useless\")\n",
        "          useless +=1\n",
        "\n",
        "\n",
        "    print(\"Total useful images are: \", len(training_images)-useless)\n",
        "    print(indexes)\n",
        "    print(\"Total useless images are: \", useless)\n",
        "\n",
        "    return useful_images"
      ],
      "metadata": {
        "id": "Vfs8hNJSTxoN"
      },
      "execution_count": 7,
      "outputs": []
    },
    {
      "cell_type": "code",
      "source": [
        "def combine_lists(lists_of_arrays):\n",
        "    \"\"\"\n",
        "    Combine lists of arrays into a single list.\n",
        "\n",
        "    Args:\n",
        "    lists_of_arrays (list): A list of lists, where each inner list contains arrays.\n",
        "\n",
        "    Returns:\n",
        "    combined_list (list): A single list containing all arrays from the input lists.\n",
        "    \"\"\"\n",
        "    combined_list = []\n",
        "\n",
        "    for arr_list in lists_of_arrays:\n",
        "        combined_list.extend(arr_list)\n",
        "\n",
        "    return combined_list\n",
        "\n",
        "# # Example usage:\n",
        "# list1 = [np.array([1, 2, 3]), np.array([4, 5, 6])]\n",
        "# list2 = [np.array([7, 8, 9]), np.array([10, 11, 12])]\n",
        "\n",
        "# lists_of_arrays = [list1, list2]\n",
        "# combined_list = combine_lists(lists_of_arrays)\n",
        "\n",
        "# print(combined_list)\n",
        "\n"
      ],
      "metadata": {
        "id": "pWmSDKrmVRU6"
      },
      "execution_count": 8,
      "outputs": []
    },
    {
      "cell_type": "code",
      "source": [],
      "metadata": {
        "id": "2o4NVD8eXqgO"
      },
      "execution_count": null,
      "outputs": []
    },
    {
      "cell_type": "code",
      "source": [
        "#create mask_array\n",
        "\n",
        "def preprocess_mask(filelocation):\n",
        "\n",
        "\n",
        "    with rasterio.open(filelocation) as src:\n",
        "        # Read the TIFF data\n",
        "        output_mask = src.read()\n",
        "        num_bands, height, width = src.shape\n",
        "\n",
        "        # Calculate the new width and height that are multiples of the patch size\n",
        "        patch_size = 256  # Replace with your desired patch size\n",
        "        new_width = int(np.floor(width / patch_size)) * patch_size\n",
        "        new_height = int(np.floor(height / patch_size)) * patch_size\n",
        "\n",
        "        print(\"cropped dimensions:\", new_height, new_width)\n",
        "\n",
        "        output_mask = np.moveaxis(output_mask, 0, -1)\n",
        "\n",
        "        # Crop the input_image to the new dimensions\n",
        "        cropped_mask = output_mask[:new_height, :new_width, :]\n",
        "\n",
        "        print(\"Cropped array shape:\", cropped_mask.shape)\n",
        "\n",
        "        new_mask = np.squeeze(cropped_mask)\n",
        "\n",
        "    masks = []\n",
        "    for i in range(0, new_mask.shape[0], patch_size):\n",
        "        for j in range(0, new_mask.shape[1], patch_size):\n",
        "            patch = new_mask[i:i+patch_size, j:j+patch_size]\n",
        "            masks.append(patch)\n",
        "    return masks\n"
      ],
      "metadata": {
        "id": "Jv9zXMSgWYYC"
      },
      "execution_count": 9,
      "outputs": []
    },
    {
      "cell_type": "code",
      "source": [
        "#combine masks\n",
        "#apply one hot encoding\n",
        "from tensorflow.keras.utils import to_categorical\n",
        "def onehotencoding(labels, num_classes=23):\n",
        "    return to_categorical(labels, num_classes)\n",
        "mask_array = np.array(masks)"
      ],
      "metadata": {
        "id": "fYrAMJ6IXSrx"
      },
      "execution_count": null,
      "outputs": []
    },
    {
      "cell_type": "markdown",
      "source": [
        "1. load each image, preprocess and create patches\n",
        "2. load the mask and create mask-array\n",
        "3. sample each image-patch with mask\n",
        "4. get the useful patches\n",
        "5. combine useful patches and convert into one numpy array\n",
        "6. combine masks and convert them into one numpy array\n"
      ],
      "metadata": {
        "id": "MknQ4WqDXtf6"
      }
    },
    {
      "cell_type": "code",
      "source": [
        "patch_1 = preprocessing('/content/gdrive/MyDrive/exp/other images/public-archivedwl-5/area2_0123_2023_8bands.tif')"
      ],
      "metadata": {
        "colab": {
          "base_uri": "https://localhost:8080/"
        },
        "id": "2ifT2e3iYDY-",
        "outputId": "d8b23e3c-31e9-4bcb-961a-133a305420d7"
      },
      "execution_count": 42,
      "outputs": [
        {
          "output_type": "stream",
          "name": "stdout",
          "text": [
            "total number of nan in original 0\n",
            "Original image dimensions: 8 4085 4686\n",
            "[1.0000e+00 2.0000e+00 3.0000e+00 ... 1.0204e+04 1.0383e+04 1.0888e+04] [1192668  570011  635396 ...       1       1       1]\n",
            "total unique 6554\n",
            "1.0 10888.0\n",
            "band- 1 maximum- 6688.0 minimum- 1.0\n",
            "band- 2 maximum- 6266.0 minimum- 73.0\n",
            "band- 3 maximum- 6819.0 minimum- 1.0\n",
            "band- 4 maximum- 6696.0 minimum- 9.0\n",
            "band- 5 maximum- 8876.0 minimum- 1.0\n",
            "band- 6 maximum- 10383.0 minimum- 11.0\n",
            "band- 7 maximum- 10204.0 minimum- 1.0\n",
            "band- 8 maximum- 10888.0 minimum- 1.0\n",
            "cropped dimensions: 3840 4608\n",
            "total number of nan 0\n",
            "Cropped array shape: (3840, 4608, 8)\n",
            "0.0 1.0\n",
            "patches are created\n"
          ]
        }
      ]
    },
    {
      "cell_type": "code",
      "source": [
        "patch_2 = preprocessing('/content/gdrive/MyDrive/exp/other images/public-archivedwl-5/area2_0516_2023_8bands.tif')"
      ],
      "metadata": {
        "colab": {
          "base_uri": "https://localhost:8080/"
        },
        "id": "-xiSyuWgpFTo",
        "outputId": "e03186f6-a5e3-498d-9765-44068d5e8466"
      },
      "execution_count": 40,
      "outputs": [
        {
          "output_type": "stream",
          "name": "stdout",
          "text": [
            "total number of nan in original 0\n",
            "Original image dimensions: 8 4093 4691\n",
            "[0.0000000e+00 1.0000000e+00 1.3210372e+00 ... 8.3150000e+03 8.3500000e+03\n",
            " 9.0132861e+03] [5046768    1581       1 ...       1       1       1]\n",
            "total unique 37131253\n",
            "0.0 9013.286\n",
            "band- 1 maximum- 7270.3057 minimum- 0.0\n",
            "band- 2 maximum- 6309.0 minimum- 0.0\n",
            "band- 3 maximum- 5006.967 minimum- 0.0\n",
            "band- 4 maximum- 6638.0 minimum- 0.0\n",
            "band- 5 maximum- 6024.095 minimum- 0.0\n",
            "band- 6 maximum- 7737.994 minimum- 0.0\n",
            "band- 7 maximum- 7287.0 minimum- 0.0\n",
            "band- 8 maximum- 9013.286 minimum- 0.0\n",
            "cropped dimensions: 3840 4608\n",
            "total number of nan 0\n",
            "Cropped array shape: (3840, 4608, 8)\n",
            "0.0 1.0\n",
            "patches are created\n"
          ]
        }
      ]
    },
    {
      "cell_type": "code",
      "source": [
        "patch_3 = preprocessing('/content/gdrive/MyDrive/exp/other images/public-archivedwl-5/area2_0516_2023_8bands_composite.tif')"
      ],
      "metadata": {
        "colab": {
          "base_uri": "https://localhost:8080/"
        },
        "id": "j280aYucY0Oy",
        "outputId": "68c0df06-b284-45ed-b7c6-d584ca84c942"
      },
      "execution_count": 43,
      "outputs": [
        {
          "output_type": "stream",
          "name": "stdout",
          "text": [
            "total number of nan in original 0\n",
            "Original image dimensions: 8 4013 4591\n",
            "[   0    1    2 ... 9266 9502 9977] [2287920   69191    4276 ...       1       1       1]\n",
            "total unique 6881\n",
            "0 9977\n",
            "band- 1 maximum- 7811 minimum- 0\n",
            "band- 2 maximum- 7080 minimum- 0\n",
            "band- 3 maximum- 6078 minimum- 0\n",
            "band- 4 maximum- 7601 minimum- 0\n",
            "band- 5 maximum- 6543 minimum- 0\n",
            "band- 6 maximum- 9977 minimum- 0\n",
            "band- 7 maximum- 9266 minimum- 0\n",
            "band- 8 maximum- 9187 minimum- 0\n",
            "cropped dimensions: 3840 4352\n",
            "total number of nan 0\n",
            "Cropped array shape: (3840, 4352, 8)\n",
            "0.0 1.0\n",
            "patches are created\n"
          ]
        }
      ]
    },
    {
      "cell_type": "code",
      "source": [
        "patch_4 = preprocessing('/content/gdrive/MyDrive/exp/other images/public-archivedwl-5/area2_0530_2022_8bands.tif')"
      ],
      "metadata": {
        "colab": {
          "base_uri": "https://localhost:8080/"
        },
        "id": "429aEVN7ZSuF",
        "outputId": "42d6ab42-5d1f-4af7-fa02-2a41c518e11d"
      },
      "execution_count": 44,
      "outputs": [
        {
          "output_type": "stream",
          "name": "stdout",
          "text": [
            "total number of nan in original 0\n",
            "Original image dimensions: 8 4019 4618\n",
            "[1.0000000e+00 1.0153766e+00 1.0335821e+00 ... 8.3135000e+03 9.7730000e+03\n",
            " 1.0610000e+04] [7116    1    1 ...    1    1    1]\n",
            "total unique 23091645\n",
            "1.0 10610.0\n",
            "band- 1 maximum- 3905.5 minimum- 1.0\n",
            "band- 2 maximum- 5630.5 minimum- 14.0\n",
            "band- 3 maximum- 6175.5 minimum- 11.0\n",
            "band- 4 maximum- 6969.5 minimum- 1.0\n",
            "band- 5 maximum- 7382.0 minimum- 27.0\n",
            "band- 6 maximum- 10610.0 minimum- 1.0\n",
            "band- 7 maximum- 8313.5 minimum- 1.0\n",
            "band- 8 maximum- 7437.0 minimum- 42.0\n",
            "cropped dimensions: 3840 4608\n",
            "total number of nan 0\n",
            "Cropped array shape: (3840, 4608, 8)\n",
            "0.0 1.0\n",
            "patches are created\n"
          ]
        }
      ]
    },
    {
      "cell_type": "code",
      "source": [
        "patch_5 = preprocessing('/content/gdrive/MyDrive/exp/other images/public-archivedwl-5/area2_0617_2023_8bands.tif')"
      ],
      "metadata": {
        "colab": {
          "base_uri": "https://localhost:8080/"
        },
        "id": "XLyrxPqsZcLC",
        "outputId": "a1432b3d-22a2-4388-9158-5d13ff86197b"
      },
      "execution_count": 45,
      "outputs": [
        {
          "output_type": "stream",
          "name": "stdout",
          "text": [
            "total number of nan in original 0\n",
            "Original image dimensions: 8 4093 4691\n",
            "[0.00000000e+00 1.00000000e+00 1.00744951e+00 ... 1.47508545e+04\n",
            " 1.48675693e+04 1.49122227e+04] [5139424     339       1 ...       1       1       1]\n",
            "total unique 34703699\n",
            "0.0 14912.223\n",
            "band- 1 maximum- 10229.461 minimum- 0.0\n",
            "band- 2 maximum- 8654.425 minimum- 0.0\n",
            "band- 3 maximum- 10251.252 minimum- 0.0\n",
            "band- 4 maximum- 10945.41 minimum- 0.0\n",
            "band- 5 maximum- 14912.223 minimum- 0.0\n",
            "band- 6 maximum- 11515.0205 minimum- 0.0\n",
            "band- 7 maximum- 13945.831 minimum- 0.0\n",
            "band- 8 maximum- 14750.8545 minimum- 0.0\n",
            "cropped dimensions: 3840 4608\n",
            "total number of nan 0\n",
            "Cropped array shape: (3840, 4608, 8)\n",
            "0.0 1.0\n",
            "patches are created\n"
          ]
        }
      ]
    },
    {
      "cell_type": "code",
      "source": [
        "patch_6 = preprocessing('/content/gdrive/MyDrive/exp/other images/public-archivedwl-5/area2_0619_2023_8bands_composite.tif')"
      ],
      "metadata": {
        "colab": {
          "base_uri": "https://localhost:8080/"
        },
        "id": "gCfGYRI5dvD0",
        "outputId": "28fbb78d-1299-4172-c840-8e0c6122f2ee"
      },
      "execution_count": 46,
      "outputs": [
        {
          "output_type": "stream",
          "name": "stdout",
          "text": [
            "total number of nan in original 0\n",
            "Original image dimensions: 8 4013 4591\n",
            "[    0     1     2 ... 10374 10394 10750] [1412136 1618170  192589 ...       1       1       1]\n",
            "total unique 6591\n",
            "0 10750\n",
            "band- 1 maximum- 7867 minimum- 0\n",
            "band- 2 maximum- 7895 minimum- 0\n",
            "band- 3 maximum- 8909 minimum- 0\n",
            "band- 4 maximum- 9605 minimum- 0\n",
            "band- 5 maximum- 10394 minimum- 0\n",
            "band- 6 maximum- 10750 minimum- 0\n",
            "band- 7 maximum- 10374 minimum- 0\n",
            "band- 8 maximum- 10048 minimum- 0\n",
            "cropped dimensions: 3840 4352\n",
            "total number of nan 0\n",
            "Cropped array shape: (3840, 4352, 8)\n",
            "0.0 1.0\n",
            "patches are created\n"
          ]
        }
      ]
    },
    {
      "cell_type": "code",
      "source": [
        "patch_7 = preprocessing('/content/gdrive/MyDrive/exp/other images/public-archivedwl-5/area2_0803_2022_8bands.tif')"
      ],
      "metadata": {
        "colab": {
          "base_uri": "https://localhost:8080/"
        },
        "id": "ogtO6cIVd-_z",
        "outputId": "b26c2b84-5b04-47b8-abe9-7e4b28594b3d"
      },
      "execution_count": 48,
      "outputs": [
        {
          "output_type": "stream",
          "name": "stdout",
          "text": [
            "total number of nan in original 0\n",
            "Original image dimensions: 8 4085 4686\n",
            "[1.0000000e+00 1.0001994e+00 1.0002265e+00 ... 2.0560777e+04 2.2831994e+04\n",
            " 3.1133723e+04] [1722168       1       1 ...       1       1       1]\n",
            "total unique 39859147\n",
            "1.0 31133.723\n",
            "band- 1 maximum- 11538.01 minimum- 1.0\n",
            "band- 2 maximum- 6580.7026 minimum- 43.0\n",
            "band- 3 maximum- 7336.129 minimum- 1.0\n",
            "band- 4 maximum- 7969.3013 minimum- 51.0\n",
            "band- 5 maximum- 12767.986 minimum- 1.0\n",
            "band- 6 maximum- 11290.568 minimum- 36.0\n",
            "band- 7 maximum- 31133.723 minimum- 2.0\n",
            "band- 8 maximum- 16012.023 minimum- 1.0\n",
            "cropped dimensions: 3840 4608\n",
            "total number of nan 0\n",
            "Cropped array shape: (3840, 4608, 8)\n",
            "0.0 1.0\n",
            "patches are created\n"
          ]
        }
      ]
    },
    {
      "cell_type": "code",
      "source": [
        "patch_8 = preprocessing('/content/gdrive/MyDrive/exp/other images/public-archivedwl-5/area2_0913_2022_8bands.tif')"
      ],
      "metadata": {
        "colab": {
          "base_uri": "https://localhost:8080/"
        },
        "id": "WggOpSKqeW8H",
        "outputId": "309007c0-4d55-46cb-fcc1-c6cd79e249dc"
      },
      "execution_count": 49,
      "outputs": [
        {
          "output_type": "stream",
          "name": "stdout",
          "text": [
            "total number of nan in original 0\n",
            "Original image dimensions: 8 4085 4686\n",
            "[  330.81818   353.87973   354.5077  ... 53613.      58280.\n",
            " 65391.     ] [1 1 1 ... 1 1 1]\n",
            "total unique 21192666\n",
            "330.81818 65391.0\n",
            "band- 1 maximum- 65391.0 minimum- 3988.9937\n",
            "band- 2 maximum- 24658.0 minimum- 3121.3325\n",
            "band- 3 maximum- 28361.0 minimum- 2164.0\n",
            "band- 4 maximum- 30501.0 minimum- 1813.0\n",
            "band- 5 maximum- 46962.0 minimum- 1116.0\n",
            "band- 6 maximum- 36442.0 minimum- 851.0\n",
            "band- 7 maximum- 50179.0 minimum- 701.71814\n",
            "band- 8 maximum- 36001.0 minimum- 330.81818\n",
            "cropped dimensions: 3840 4608\n",
            "total number of nan 0\n",
            "Cropped array shape: (3840, 4608, 8)\n",
            "0.0 1.0\n",
            "patches are created\n"
          ]
        }
      ]
    }
  ]
}